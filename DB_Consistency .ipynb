{
  "nbformat": 4,
  "nbformat_minor": 0,
  "metadata": {
    "colab": {
      "provenance": []
    },
    "kernelspec": {
      "name": "python3",
      "display_name": "Python 3"
    },
    "language_info": {
      "name": "python"
    }
  },
  "cells": [
    {
      "cell_type": "markdown",
      "source": [
        "# **Code Example**"
      ],
      "metadata": {
        "id": "moz1Zjr5eUeB"
      }
    },
    {
      "cell_type": "code",
      "source": [
        "!pip install azure-cosmos\n"
      ],
      "metadata": {
        "id": "FT49NRoid_qX"
      },
      "execution_count": null,
      "outputs": []
    },
    {
      "cell_type": "code",
      "execution_count": null,
      "metadata": {
        "id": "Q4_pZDNxd259"
      },
      "outputs": [],
      "source": [
        "import uuid\n",
        "import time\n",
        "from azure.cosmos import CosmosClient, PartitionKey, exceptions\n",
        "from statistics import mean\n",
        "\n",
        "\n",
        "COSMOS_URI = \"<my-uri>\"\n",
        "COSMOS_KEY = \"<my-key>\"\n",
        "DATABASE_NAME = \"ecommerce-db\"\n",
        "CONTAINER_NAME = \"eCommerce\"\n",
        "\n",
        "# Setup client and database\n",
        "client = CosmosClient(COSMOS_URI, COSMOS_KEY)\n",
        "db = client.create_database_if_not_exists(DATABASE_NAME)\n",
        "container = db.create_container_if_not_exists(\n",
        "    id=CONTAINER_NAME,\n",
        "    partition_key=PartitionKey(path=\"/partitionKey\"),\n",
        "    offer_throughput=400\n",
        ")\n",
        "\n",
        "# Helper functions\n",
        "def create_product():\n",
        "    item = {\n",
        "        \"id\": str(uuid.uuid4()),\n",
        "        \"type\": \"product\",\n",
        "        \"name\": \"Laptop\",\n",
        "        \"price\": 999.99,\n",
        "        \"partitionKey\": \"product\"\n",
        "    }\n",
        "    return container.upsert_item(item)\n",
        "\n",
        "def read_products():\n",
        "    start = time.time()\n",
        "    items = list(container.query_items(\n",
        "        query=\"SELECT * FROM c WHERE c.type='product'\",\n",
        "        enable_cross_partition_query=True\n",
        "    ))\n",
        "    duration = (time.time() - start) * 1000  # in ms\n",
        "    return duration, items\n",
        "\n",
        "def create_inventory(product_id):\n",
        "    item = {\n",
        "        \"id\": str(uuid.uuid4()),\n",
        "        \"type\": \"inventory\",\n",
        "        \"productId\": product_id,\n",
        "        \"stockLevel\": 50,\n",
        "        \"partitionKey\": \"inventory\"\n",
        "    }\n",
        "    return container.upsert_item(item)\n",
        "\n",
        "def update_inventory(inventory_id):\n",
        "    try:\n",
        "        item = container.read_item(item=inventory_id, partition_key=\"inventory\")\n",
        "        item[\"stockLevel\"] -= 1\n",
        "        return container.replace_item(item=inventory_id, body=item)\n",
        "    except exceptions.CosmosResourceNotFoundError:\n",
        "        print(\"Inventory item not found.\")\n",
        "        return None\n",
        "\n",
        "# Experiment Simulation\n",
        "def run_simulation():\n",
        "    latencies = []\n",
        "\n",
        "    print(\"Creating a product...\")\n",
        "    product = create_product()\n",
        "\n",
        "    print(\"Creating inventory...\")\n",
        "    inventory = create_inventory(product_id=product['id'])\n",
        "\n",
        "    print(\"Running reads...\")\n",
        "    for _ in range(5):\n",
        "        latency, _ = read_products()\n",
        "        latencies.append(latency)\n",
        "\n",
        "    print(\"Updating inventory...\")\n",
        "    update_inventory(inventory_id=inventory['id'])\n",
        "\n",
        "    print(\"Average Read Latency:\", round(mean(latencies), 2), \"ms\")\n",
        "\n",
        "# Run\n",
        "if __name__ == \"__main__\":\n",
        "    run_simulation()\n"
      ]
    },
    {
      "cell_type": "markdown",
      "source": [
        "# **Sample Output Shape**"
      ],
      "metadata": {
        "id": "ERokvQPBeQEm"
      }
    },
    {
      "cell_type": "code",
      "source": [
        "Creating a product...\n",
        "Product created with ID: f89b1d68-58f3-4f75-b128-9c75a68e60ab\n",
        "\n",
        "Creating inventory...\n",
        "Inventory created with ID: 38afac9e-37b2-4b28-8f3c-bbcbab7e233e\n",
        "\n",
        "Running reads...\n",
        "Read #1 latency: 14.23 ms\n",
        "Read #2 latency: 13.56 ms\n",
        "Read #3 latency: 14.78 ms\n",
        "Read #4 latency: 15.02 ms\n",
        "Read #5 latency: 13.99 ms\n",
        "\n",
        "Updating inventory...\n",
        "Inventory stock level decremented. New stock level: 49\n",
        "\n",
        "Average Read Latency: 14.32 ms"
      ],
      "metadata": {
        "id": "CW1MfgTceNY8"
      },
      "execution_count": null,
      "outputs": []
    }
  ]
}